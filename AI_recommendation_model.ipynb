{
  "nbformat": 4,
  "nbformat_minor": 0,
  "metadata": {
    "colab": {
      "provenance": []
    },
    "kernelspec": {
      "name": "python3",
      "display_name": "Python 3"
    },
    "language_info": {
      "name": "python"
    }
  },
  "cells": [
    {
      "cell_type": "markdown",
      "source": [
        "# Income Allocation AI model"
      ],
      "metadata": {
        "id": "wZI1IvH3BMQq"
      }
    },
    {
      "cell_type": "code",
      "source": [
        "import pandas as pd\n",
        "import numpy as np\n",
        "\n",
        "# Set seed for reproducibility\n",
        "np.random.seed(42)\n",
        "\n",
        "# Number of entries\n",
        "n_entries = 10000\n",
        "\n",
        "# Generate total income with different brackets (from 500 to 10000 cedis)\n",
        "total_income = np.concatenate([\n",
        "    np.random.randint(500, 2001, 2000),\n",
        "    np.random.randint(2001, 4001, 2000),\n",
        "    np.random.randint(4001, 6001, 2000),\n",
        "    np.random.randint(6001, 8001, 2000),\n",
        "    np.random.randint(8001, 10001, 2000)\n",
        "])\n",
        "\n",
        "# Generate percentages ensuring valid ranges\n",
        "def generate_valid_percentages(n):\n",
        "    essentials = np.random.uniform(30, 70, n)\n",
        "    savings = np.random.uniform(5, 30, n)\n",
        "    investments = np.random.uniform(5, 30, n)\n",
        "    discretionary = 100 - (essentials + savings + investments)\n",
        "    discretionary = np.clip(discretionary, 0, 100)  # Ensure no negative values\n",
        "    return essentials, savings, investments, discretionary\n",
        "\n",
        "essentials_percentage, savings_percentage, investments_percentage, discretionary_percentage = generate_valid_percentages(n_entries)\n",
        "\n",
        "# Risk tolerance and financial status\n",
        "risk_tolerance = np.random.choice(['Low', 'Medium', 'High'], n_entries)\n",
        "financial_status = np.random.choice(['strain', 'stable', 'growth'], n_entries)\n",
        "\n",
        "# Create DataFrame\n",
        "data = pd.DataFrame({\n",
        "    'total_income': total_income,\n",
        "    'essentials_percentage': essentials_percentage.round(2),\n",
        "    'savings_percentage': savings_percentage.round(2),\n",
        "    'investments_percentage': investments_percentage.round(2),\n",
        "    'discretionary_percentage': discretionary_percentage.round(2),\n",
        "    'risk_tolerance': risk_tolerance,\n",
        "    'financial_status': financial_status\n",
        "})\n",
        "\n",
        "# Save to CSV\n",
        "data.to_csv('financial_data.csv', index=False)\n",
        "\n",
        "print(\"Dataset generated and saved to 'financial_data.csv'.\")\n"
      ],
      "metadata": {
        "colab": {
          "base_uri": "https://localhost:8080/"
        },
        "id": "WbGnB40HErsJ",
        "outputId": "aae8585c-1ac3-498a-cdfd-ed889b60d5fa"
      },
      "execution_count": 3,
      "outputs": [
        {
          "output_type": "stream",
          "name": "stdout",
          "text": [
            "Dataset generated and saved to 'financial_data.csv'.\n"
          ]
        }
      ]
    },
    {
      "cell_type": "code",
      "source": [
        "from sklearn.model_selection import train_test_split\n",
        "from sklearn.preprocessing import StandardScaler, OneHotEncoder\n",
        "from sklearn.compose import ColumnTransformer\n",
        "from sklearn.pipeline import Pipeline\n",
        "from sklearn.ensemble import RandomForestRegressor, RandomForestClassifier\n",
        "\n",
        "# Load data from a CSV file\n",
        "data = pd.read_csv('financial_data.csv')  # Replace 'data.csv' with the path to your CSV file\n",
        "\n",
        "# Calculate percentages\n",
        "data['disposable_percentage'] = 100 - (data['essentials_percentage'] + data['discretionary_percentage'] + data['investments_percentage'])\n",
        "\n",
        "# Define features and targets\n",
        "X_status = data[['total_income', 'essentials_percentage', 'investments_percentage', 'discretionary_percentage', 'risk_tolerance']]\n",
        "y_status = data['financial_status']\n",
        "\n",
        "X_savings_investments = data[['total_income', 'disposable_percentage', 'financial_status', 'risk_tolerance']]\n",
        "y_savings = data['savings_percentage']\n",
        "y_investments = data['investments_percentage']\n",
        "\n",
        "\n"
      ],
      "metadata": {
        "colab": {
          "base_uri": "https://localhost:8080/"
        },
        "id": "M_mQwugPDtLi",
        "outputId": "9be728ef-58aa-4b0e-81d1-50b170ea884d"
      },
      "execution_count": 4,
      "outputs": [
        {
          "output_type": "stream",
          "name": "stdout",
          "text": [
            "Predicted Financial Status: strain\n",
            "Recommended Savings Percentage: 29.99%\n",
            "Recommended Investments Percentage: 14.90%\n"
          ]
        }
      ]
    },
    {
      "cell_type": "code",
      "source": [
        "# Define preprocessing\n",
        "preprocessor_status = ColumnTransformer(\n",
        "    transformers=[\n",
        "        ('num', StandardScaler(), ['total_income', 'essentials_percentage', 'investments_percentage', 'discretionary_percentage']),\n",
        "        ('cat', OneHotEncoder(handle_unknown='ignore'), ['risk_tolerance'])\n",
        "    ]\n",
        ")\n",
        "\n",
        "preprocessor_savings_investments = ColumnTransformer(\n",
        "    transformers=[\n",
        "        ('num', StandardScaler(), ['total_income', 'disposable_percentage']),\n",
        "        ('cat', OneHotEncoder(handle_unknown='ignore'), ['financial_status', 'risk_tolerance'])\n",
        "    ]\n",
        ")\n",
        "\n",
        "# Build pipelines for financial status and savings/investments\n",
        "status_pipeline = Pipeline(steps=[\n",
        "    ('preprocessor', preprocessor_status),\n",
        "    ('classifier', RandomForestClassifier(n_estimators=100))\n",
        "])\n",
        "\n",
        "savings_pipeline = Pipeline(steps=[\n",
        "    ('preprocessor', preprocessor_savings_investments),\n",
        "    ('regressor', RandomForestRegressor(n_estimators=100))\n",
        "])\n",
        "\n",
        "investments_pipeline = Pipeline(steps=[\n",
        "    ('preprocessor', preprocessor_savings_investments),\n",
        "    ('regressor', RandomForestRegressor(n_estimators=100))\n",
        "])\n"
      ],
      "metadata": {
        "id": "6R5GVsiFBiS1"
      },
      "execution_count": null,
      "outputs": []
    },
    {
      "cell_type": "code",
      "source": [
        "# Split the data\n",
        "X_train_status, X_test_status, y_train_status, y_test_status = train_test_split(X_status, y_status, test_size=0.25, random_state=0)\n",
        "X_train_savings, X_test_savings, y_train_savings, y_test_savings = train_test_split(X_savings_investments, y_savings, test_size=0.25, random_state=0)\n",
        "X_train_investments, X_test_investments, y_train_investments, y_test_investments = train_test_split(X_savings_investments, y_investments, test_size=0.25, random_state=0)\n",
        "\n",
        "# Train the models\n",
        "status_pipeline.fit(X_train_status, y_train_status)\n",
        "savings_pipeline.fit(X_train_savings, y_train_savings)\n",
        "investments_pipeline.fit(X_train_investments, y_train_investments)\n",
        "\n",
        "# Define user data\n",
        "user_data = {\n",
        "    'total_income': 10000,\n",
        "    'amount_invested': 80,\n",
        "    'amount_essentials': 10,\n",
        "    'amount_discretionary': 10,\n",
        "    'risk_tolerance': 'High'\n",
        "}\n",
        "\n",
        "# Calculate user percentages\n",
        "user_data['essentials_percentage'] = user_data['amount_essentials'] / user_data['total_income'] * 100\n",
        "user_data['investments_percentage'] = user_data['amount_invested'] / user_data['total_income'] * 100\n",
        "user_data['discretionary_percentage'] = user_data['amount_discretionary'] / user_data['total_income'] * 100\n",
        "user_data['disposable_percentage'] = 100 - (user_data['essentials_percentage'] + user_data['discretionary_percentage'] + user_data['investments_percentage'])\n"
      ],
      "metadata": {
        "id": "2owficR-Bn5k"
      },
      "execution_count": null,
      "outputs": []
    },
    {
      "cell_type": "code",
      "source": [
        "# Convert user data to DataFrame for status prediction\n",
        "user_df_status = pd.DataFrame([{\n",
        "    'total_income': user_data['total_income'],\n",
        "    'essentials_percentage': user_data['essentials_percentage'],\n",
        "    'investments_percentage': user_data['investments_percentage'],\n",
        "    'discretionary_percentage': user_data['discretionary_percentage'],\n",
        "    'risk_tolerance': user_data['risk_tolerance']\n",
        "}])\n",
        "\n",
        "# Predict financial status\n",
        "financial_status_prediction = status_pipeline.predict(user_df_status)[0]\n",
        "user_data['financial_status'] = financial_status_prediction\n",
        "\n",
        "# Convert user data to DataFrame for savings/investments prediction\n",
        "user_df_savings_investments = pd.DataFrame([{\n",
        "    'total_income': user_data['total_income'],\n",
        "    'disposable_percentage': user_data['disposable_percentage'],\n",
        "    'financial_status': user_data['financial_status'],\n",
        "    'risk_tolerance': user_data['risk_tolerance']\n",
        "}])"
      ],
      "metadata": {
        "id": "nMBxVqILBqpj"
      },
      "execution_count": null,
      "outputs": []
    },
    {
      "cell_type": "code",
      "source": [
        "# Predict savings and investments percentages\n",
        "savings_predictions = savings_pipeline.predict(user_df_savings_investments)\n",
        "investments_predictions = investments_pipeline.predict(user_df_savings_investments)\n",
        "\n",
        "print(f\"Predicted Financial Status: {financial_status_prediction}\")\n",
        "print(f\"Recommended Savings Percentage: {savings_predictions[0]:.2f}%\")\n",
        "print(f\"Recommended Investments Percentage: {investments_predictions[0]:.2f}%\")"
      ],
      "metadata": {
        "id": "Ys6hw_BsBuKo"
      },
      "execution_count": null,
      "outputs": []
    },
    {
      "cell_type": "code",
      "source": [
        "import joblib\n",
        "\n",
        "# Save the pipelines\n",
        "joblib.dump(status_pipeline, 'status_pipeline.pkl')\n",
        "joblib.dump(savings_pipeline, 'savings_pipeline.pkl')\n",
        "joblib.dump(investments_pipeline, 'investments_pipeline.pkl')\n"
      ],
      "metadata": {
        "colab": {
          "base_uri": "https://localhost:8080/"
        },
        "id": "vpb7Fg0GwF9j",
        "outputId": "bef467a6-3159-4ed4-987e-4b65a54a430a"
      },
      "execution_count": 5,
      "outputs": [
        {
          "output_type": "execute_result",
          "data": {
            "text/plain": [
              "['investments_pipeline.pkl']"
            ]
          },
          "metadata": {},
          "execution_count": 5
        }
      ]
    }
  ]
}